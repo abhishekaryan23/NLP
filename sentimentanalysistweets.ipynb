{
 "cells": [
  {
   "cell_type": "code",
   "execution_count": null,
   "metadata": {},
   "outputs": [],
   "source": [
    "#importing libraries \n",
    "import pandas as pd\n",
    "import numpy as np\n",
    "import matplotlib.pyplot as plt\n",
    "from tweepy import API \n",
    "from tweepy import Cursor\n",
    "from tweepy import OAuthHandler\n",
    "from textblob import TextBlob"
   ]
  },
  {
   "cell_type": "code",
   "execution_count": null,
   "metadata": {},
   "outputs": [],
   "source": [
    "#function to calculate percentage\n",
    "def percentage(part, whole):\n",
    "    return 100 *float(part)/float(whole)"
   ]
  },
  {
   "cell_type": "code",
   "execution_count": null,
   "metadata": {},
   "outputs": [],
   "source": [
    "# User credential for acessing the Twitter APIs\n",
    "consumer_key=\"consumer key\"\n",
    "consumer_secret=\"consumer key secret\"\n",
    "access_token=\"access token\"\n",
    "access_secret=\"access token secret\""
   ]
  },
  {
   "cell_type": "code",
   "execution_count": null,
   "metadata": {},
   "outputs": [],
   "source": [
    "#authenticating twitter API using your keys\n",
    "auth = OAuthHandler(consumer_key=consumer_key, consumer_secret=consumer_secret)\n",
    "auth.set_access_token(access_token, access_secret)\n",
    "api =API(auth)"
   ]
  },
  {
   "cell_type": "code",
   "execution_count": null,
   "metadata": {},
   "outputs": [],
   "source": [
    "#taking input from user about keyword/hashtags & No. of tweets to analyze\n",
    "search_term= input(\"Enter keyword/hashtag to search about:\")\n",
    "no_of_searchterm=int(input(\"No. of tweets to analyze:\"))"
   ]
  },
  {
   "cell_type": "code",
   "execution_count": null,
   "metadata": {},
   "outputs": [],
   "source": [
    "tweets= Cursor(api.search, q=search_term).items(no_of_searchterm)"
   ]
  },
  {
   "cell_type": "code",
   "execution_count": null,
   "metadata": {},
   "outputs": [],
   "source": [
    "#initializing the variable to check polarity\n",
    "positive=0\n",
    "negative= 0\n",
    "neutral= 0\n",
    "polarity=0"
   ]
  },
  {
   "cell_type": "code",
   "execution_count": null,
   "metadata": {},
   "outputs": [],
   "source": [
    "for tweet in tweets:\n",
    "    analysis= TextBlob(tweet.text)\n",
    "    polarity+= analysis.sentiment.polarity\n",
    "    \n",
    "    if (analysis.sentiment.polarity==0):\n",
    "        neutral+= 1\n",
    "    elif(analysis.sentiment.polarity<0.00):\n",
    "        negative+= 1\n",
    "    elif(analysis.sentiment.polarity>0.00):\n",
    "        positive+= 1\n",
    "polarity"
   ]
  },
  {
   "cell_type": "code",
   "execution_count": null,
   "metadata": {},
   "outputs": [],
   "source": [
    "positive= percentage(positive,no_of_searchterm)\n",
    "negative= percentage(negative,no_of_searchterm)\n",
    "neutral= percentage(neutral,no_of_searchterm)\n",
    "#fromating the variables\n",
    "positive= format(positive,'.2f')\n",
    "negative= format(negative,'.2f')\n",
    "neutral= format(neutral,'.2f')"
   ]
  },
  {
   "cell_type": "code",
   "execution_count": null,
   "metadata": {},
   "outputs": [],
   "source": [
    "print('By analyzing '+str(no_of_searchterm)+' of tweets, sentiments about '+str(search_term)+' is:')\n",
    "if (polarity == 0):\n",
    "    print(\"Neutral\")\n",
    "elif(polarity < 0):\n",
    "    print(\"Negative\")\n",
    "elif(polarity > 0):\n",
    "    print(\"Positive\")"
   ]
  },
  {
   "cell_type": "code",
   "execution_count": null,
   "metadata": {},
   "outputs": [],
   "source": [
    "# creating a pie plot of the result obtained\n",
    "labels=['Neutral['+str(neutral)+'%]','Negative['+str(negative)+'%]','Positive['+str(positive)+'%]']\n",
    "sizes=[neutral,negative,positive,]\n",
    "colors=['yellow','red','green']\n",
    "patches,texts=plt.pie(sizes,colors=colors,startangle=90)\n",
    "plt.legend(patches,labels,loc='best')\n",
    "plt.title('Sentiments relating to '+str(search_term))\n",
    "plt.axis('equal')\n",
    "plt.tight_layout()\n",
    "plt.show()"
   ]
  }
 ],
 "metadata": {
  "kernelspec": {
   "display_name": "Python 3",
   "language": "python",
   "name": "python3"
  },
  "language_info": {
   "codemirror_mode": {
    "name": "ipython",
    "version": 3
   },
   "file_extension": ".py",
   "mimetype": "text/x-python",
   "name": "python",
   "nbconvert_exporter": "python",
   "pygments_lexer": "ipython3",
   "version": "3.7.1"
  }
 },
 "nbformat": 4,
 "nbformat_minor": 2
}
